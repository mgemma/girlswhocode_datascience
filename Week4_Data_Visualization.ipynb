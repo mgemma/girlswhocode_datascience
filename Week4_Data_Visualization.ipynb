{
  "cells": [
    {
      "cell_type": "markdown",
      "metadata": {
        "id": "view-in-github",
        "colab_type": "text"
      },
      "source": [
        "<a href=\"https://colab.research.google.com/github/mgemma/girlswhocode_datascience/blob/main/Week4_Data_Visualization.ipynb\" target=\"_parent\"><img src=\"https://colab.research.google.com/assets/colab-badge.svg\" alt=\"Open In Colab\"/></a>"
      ]
    },
    {
      "cell_type": "markdown",
      "metadata": {
        "id": "elgrTCkKcK-U"
      },
      "source": [
        "\n",
        "# **Week 4: Intro to Data Visualization via Planetary (Data) Science**\n",
        "\n",
        "Girls Who Code @ Columbia\n",
        "\n",
        "Class 3: Intro to Data Science\n",
        "\n",
        "Week 4 curriculum by Marina Gemma (meg2203@columbia.edu). \n",
        "\n",
        "## **Label and save your notebooks**\n",
        "\n",
        "1. Click on \"Copy to Drive\"\n",
        "\n",
        "2. Rename your notebook \"Week4_YourName.ipynb\"\n",
        "\n",
        "## Learning Objectives:\n",
        "\n",
        "* Import a NASA dataset\n",
        "* Explore variables in the dataset\n",
        "* Find relationships between variables\n",
        "* Visualize data in different ways\n",
        "* Plot data efficiently\n",
        "* Answer questions using visualizations of data\n",
        "\n",
        "### Today we will be exploring and visualizing planetary science datasets!! \n",
        "\n",
        "Planetary scientists study the **planets**, **moons**, and **small bodies** (i.e. asteroids and comets) in our solar system, as well as the processes that led to their formation and evolution. [Planetary science](https://science.nasa.gov/solar-system) is an interdisciplinary field, combining astronomy, geology, geophysics, cosmochemistry, atmospheric science, and even oceanography, among other disciplines. \n",
        "\n",
        "<img src=\"https://media4.giphy.com/media/26BGLwK0ciNMY7BaU/giphy.gif?cid=ecf05e478dhzd9n24cdn9s5efjv74josohtjexd4cky3fhtg&rid=giphy.gif&ct=g\" width=\"300\" height=\"300\">\n",
        "\n",
        "Researchers explore the interiors, surfaces, and atmospheres of the diverse planetary bodies in our solar system, using laboratory investigations, telescope observations, and as well as a variety of spacecraft to collect data that allows them to decipher the histories of these planetary bodies as well as their current environments. \n",
        "\n",
        "**Data science** is an increasingly important component of planetary science, and will only become more important in the future, as the amount of data we have increases. A massive amount of data is produced by the many laboratory investigations, telescope observations, and spacecraft measurements that planetary scientists use. Data science is used to investigate this information, and determine what kind of relationships and connections exist within it. \n"
      ]
    },
    {
      "cell_type": "markdown",
      "metadata": {
        "id": "y6v0u2dTcK-Y"
      },
      "source": [
        "<img src=\"https://www.nasa.gov/sites/default/files/thumbnails/image/planets_in_solar_system_4k.jpg\" width=\"600\" height=\"400\">\n",
        "\n",
        "Image credit: [NASA](https://www.nasa.gov/sites/default/files/thumbnails/image/planets_in_solar_system_4k.jpg)\n",
        "\n"
      ]
    },
    {
      "cell_type": "markdown",
      "metadata": {
        "id": "h82GYiaScK-Z"
      },
      "source": [
        "\n",
        "# **Icebreaker** Time!\n",
        "\n",
        "<img src=\"https://media1.giphy.com/media/QYwMxfDpoH3VBfPEET/giphy.gif?cid=ecf05e47zt33htporbg6fz3nzl9t7vsxm86igsjpjowgjeml&rid=giphy.gif&ct=g\" width=\"500\" height=\"300\">"
      ]
    },
    {
      "cell_type": "markdown",
      "metadata": {
        "id": "WUi10arFcK-Z"
      },
      "source": [
        "> Can you name all eight planets in our solar system?\n",
        "> \n",
        "> Do you have a favorite planet (or moon)?\n",
        ">\n",
        "> Which planet do you think has the most moons?\n",
        ">\n",
        ">  Guess how many moons it has:\n",
        ">\n",
        ">  Answer: Saturn has 82, Jupiter has 79"
      ]
    },
    {
      "cell_type": "markdown",
      "metadata": {
        "id": "-ok_f4kicK-a"
      },
      "source": [
        "As always, we will begin by importing the packages we plan to use for today's exercise:"
      ]
    },
    {
      "cell_type": "code",
      "execution_count": null,
      "metadata": {
        "id": "ZoRb5hYkcK-a"
      },
      "outputs": [],
      "source": [
        "import pandas as pd\n",
        "import numpy as np\n",
        "import xarray as xr\n",
        "import matplotlib as mpl\n",
        "from matplotlib import pyplot as plt\n",
        "\n",
        "#this command sets a standard size for your plots - you can change the dimensions if you'd like!\n",
        "plt.rcParams['figure.figsize'] = (10,5)"
      ]
    },
    {
      "cell_type": "markdown",
      "metadata": {
        "id": "-1aPMUDWcK-c"
      },
      "source": [
        "# **Planet Facts!**\n",
        "\n",
        "First, we are going to explore the similarities and differences between the planets in our solar system by comparing their various properties. We will be using this [planetary fact sheet](https://nssdc.gsfc.nasa.gov/planetary/factsheet/index.html) from NASA. You will notice that we have data for the eight planets of our solar system, as well as for Pluto (which is a dwarf planet!)\n",
        "\n",
        "Remember, **data science** is used to:\n",
        " - identify patterns in data and to connect patterns back to the real world\n",
        " - analyze data, pose questions that can be answered by investigating relationships among variables in a data set\n",
        "\n",
        "Using these basic planetary properties (our variables), we can visualize and explore the data in order to identify patterns among planet properties, and relate these patterns back to the real world. \n",
        "\n",
        "For example - would you expect a planet's temperature to be related to its distance from the Sun? Why or why not?"
      ]
    },
    {
      "cell_type": "code",
      "execution_count": null,
      "metadata": {
        "id": "Nb6SV3jMcK-d"
      },
      "outputs": [],
      "source": [
        "#answer here: \n"
      ]
    },
    {
      "cell_type": "markdown",
      "metadata": {
        "id": "SR68yjvMcK-e"
      },
      "source": [
        "<img src=\"https://www.nasa.gov/images/content/155854main_solar-system-montage-browse.jpg\" width=\"600\" height=\"500\">\n",
        "\n",
        "\n",
        "## Exploring the data\n",
        "\n",
        "First, we need to import the data as a pandas `DataFrame`, which we will name **`planets`**.\n",
        "\n",
        "Check last week's lesson if you need a pandas refresher!"
      ]
    },
    {
      "cell_type": "code",
      "execution_count": null,
      "metadata": {
        "id": "wnx7hgZJcK-e"
      },
      "outputs": [],
      "source": [
        "planets = pd.read_csv('https://raw.githubusercontent.com/mgemma/girlswhocode_datascience/main/Week4_Planetary_Fact_Sheet_Metric.csv',index_col=None)\n",
        "planets"
      ]
    },
    {
      "cell_type": "markdown",
      "metadata": {
        "id": "qLDwtpvocK-g"
      },
      "source": [
        "Sometimes, if your dataframe has lots of columns, some of the columns won't display in the table (indicated by ...). \n",
        "\n",
        "We don't have this problem with our `planets` dataframe, but We want to know all of the planet properties we can explore, so let's list all of the column names below, using:\n",
        "\n",
        "    list(planets.columns)\n",
        "    \n",
        "<img src=\"https://cdn.dribbble.com/users/174665/screenshots/3127880/media/d864b6a380a0064585916b8d2b55d75a.gif\" width=\"250\" height=\"200\">\n",
        "\n"
      ]
    },
    {
      "cell_type": "code",
      "execution_count": null,
      "metadata": {
        "id": "DJnOqpX9cK-g"
      },
      "outputs": [],
      "source": [
        "list(planets.columns)"
      ]
    },
    {
      "cell_type": "markdown",
      "metadata": {
        "id": "9Lsbv1IGcK-h"
      },
      "source": [
        "\n",
        "\n",
        "The units for the data above are in metric units. Here are the equivalent US units:\n",
        "\n",
        "| Property | Metric Units | US Units | Conversion Factor (Metric -> US) |\n",
        "| -- | -- | -- | -- |\n",
        "| Mass | kg | tons |  0.00110231 |\n",
        "| Diameter | km | miles | 0.621371 |\n",
        "| Density | kg/m$^{3}$ | lbs/ft$^{3}$ | 0.062428 |\n",
        "| Gravity | m/s$^{2}$ | ft/s$^{2}$ | 3.28084 |\n",
        "| Escape Velocity | km/s | miles/s | 0.621371 |\n",
        "| Rotation Period | days | days | - |\n",
        "| Length of Day | hours | hours | - |\n",
        "| Distance from Sun | km | miles | 0.621371 |\n",
        "| Perihelion | km | miles | 0.621371 |\n",
        "| Aphelion | km | miles | 0.621371 |\n",
        "| Orbital Period | days | days | - |\n",
        "| Orbital Velocity | km/s | miles/s | 0.621371 |\n",
        "| Orbital Inclination | degrees | degrees | - |\n",
        "| Orbital Eccentricity | - | - | - |\n",
        "| Obliquity to Orbit | degrees | degrees | - |\n",
        "| Mean Temperature | $^{\\circ}$C | $^{\\circ}$F | ($^{\\circ}$C)$\\times 1.8 + 32$  |\n",
        "| Surface Pressure | bars | atmospheres | 0.986923 |\n",
        "| Number of Moons | - | - | - |\n",
        "| Ring System | - | - | - |\n",
        "| Global Magnetic Field | - | - | - |\n",
        "\n",
        "## Pandas Review\n",
        "\n",
        "Let's do a quick review of indexing in a pandas dataframe. If you want to isolate a specific value in our dataframe *planets*, you first choose the column you are interested in, for example, the \"Planet\" column:\n",
        "\n",
        "  `planets.Planet`"
      ]
    },
    {
      "cell_type": "code",
      "execution_count": null,
      "metadata": {
        "id": "nhXvNKDwcK-h"
      },
      "outputs": [],
      "source": [
        "# run the command above here:\n"
      ]
    },
    {
      "cell_type": "markdown",
      "metadata": {
        "id": "emEGOE-ScK-i"
      },
      "source": [
        "Try calling another column in the dataframe below:"
      ]
    },
    {
      "cell_type": "code",
      "execution_count": null,
      "metadata": {
        "id": "A8P1UjHxcK-i"
      },
      "outputs": [],
      "source": [
        "#call another column:\n",
        "\n"
      ]
    },
    {
      "cell_type": "markdown",
      "metadata": {
        "id": "BMXhGPgdcK-i"
      },
      "source": [
        "Once you choose your column, you can add `.iloc[#]` to your command, where the # corresponds to the row number you are interested in:\n",
        "    \n",
        "  `planets.Planet.iloc[1]`\n",
        "    \n",
        "The above command will return the value in the **second** row of the \"Planet\" column. \n",
        "\n",
        "Remember, python counts starting at 0, so using 0 in the bracket `.iloc[0]` will give you the **first** value in the \"Planet\" column. \n",
        "\n",
        "Try finding the fourth value in the \"Planet\" column below:"
      ]
    },
    {
      "cell_type": "code",
      "execution_count": null,
      "metadata": {
        "id": "h3i-DXxHcK-j"
      },
      "outputs": [],
      "source": [
        "# remember to count from 0!\n"
      ]
    },
    {
      "cell_type": "markdown",
      "metadata": {
        "id": "J_Hb6KMLcK-j"
      },
      "source": [
        "Our dataframe `planets` also has different **types** of data. Let's use the modifier `.dtypes` to see which types of data we have in our dataframe:"
      ]
    },
    {
      "cell_type": "code",
      "execution_count": null,
      "metadata": {
        "id": "JzV5VPKFcK-j"
      },
      "outputs": [],
      "source": [
        "planets.dtypes"
      ]
    },
    {
      "cell_type": "markdown",
      "metadata": {
        "id": "v6XiZd8IcK-k"
      },
      "source": [
        "Looks like we have **3** different types of data in our dataframe: `object`, `float64`, and `int64`. Can you quickly describe each?"
      ]
    },
    {
      "cell_type": "code",
      "execution_count": null,
      "metadata": {
        "id": "eFS-Mh04cK-k"
      },
      "outputs": [],
      "source": [
        "#object: \n",
        "\n",
        "#float64: \n",
        "\n",
        "#int64: "
      ]
    },
    {
      "cell_type": "markdown",
      "metadata": {
        "id": "aFbbYoGOcK-k"
      },
      "source": [
        "## Plotting the data\n",
        "\n",
        "Now let's plot some data! First, let's look at the different masses of the planets. \n",
        "\n",
        "We can plot the names of the planets on the x-axis, and the masses of the planets on the y-axis, using `plt.scatter()`, which plots points (whereas `plt.plot()` plots points and lines):"
      ]
    },
    {
      "cell_type": "code",
      "execution_count": null,
      "metadata": {
        "id": "XduM23rtcK-k"
      },
      "outputs": [],
      "source": [
        "# here we create the plot - the plt.scatter command follows the form: plt.scatter(x-values, y-values)\n",
        "plt.scatter(planets.Planet, planets.Mass)\n",
        "\n",
        "#always label your axes! and remember to include units if applicable - in this example, the mass values are reported in kilograms (kg)\n",
        "plt.ylabel('Mass (kg)')"
      ]
    },
    {
      "cell_type": "markdown",
      "metadata": {
        "id": "aDy-9oI2cK-l"
      },
      "source": [
        "In the above plot, it looks like Mercury, Venus, Earth, Mars, Uranus, Neptune, and Pluto all have very similar masses. However, as you might know, that isn't the case! \n",
        "\n",
        "So if they all have different masses, why do they *look* like they have the same mass on our plot? It's because of the extremely large ***range*** of mass values that we are plotting. \n",
        "\n",
        "In this scenario, we want to use a **logarithmic** scale:\n",
        "* Instead of increasing the values on the y-axis in equal intervals (such as 0,1,2,3...), the intervals on a logarithmic scale (for our purposes) increase by powers of ten $(10^{0}, 10^{1}, 10^{2}, 10^{3}...)$. \n",
        "* The logarithmic scale will allow you to better see the differences in mass that exist among the planets.\n",
        "\n",
        "Luckily, we can quickly adjust the scale of the y-axis, using this command:\n",
        "\n",
        "  `plt.yscale('log')`\n",
        "    \n",
        "Add this command below - does the data look different to you?"
      ]
    },
    {
      "cell_type": "code",
      "execution_count": null,
      "metadata": {
        "id": "TeUKdDW_cK-l"
      },
      "outputs": [],
      "source": [
        "plt.scatter(planets.Planet, planets.Mass)\n",
        "plt.ylabel('Mass (kg)')\n",
        "\n",
        "#add command to change scale of y-axis\n",
        "plt.yscale('log')"
      ]
    },
    {
      "cell_type": "code",
      "execution_count": null,
      "metadata": {
        "id": "lKH-jaJPcK-l"
      },
      "outputs": [],
      "source": [
        "#does the data look different to you? if yes, how does it look different?\n"
      ]
    },
    {
      "cell_type": "markdown",
      "metadata": {
        "id": "qXzoyL5PcK-l"
      },
      "source": [
        "With the **log scale** on the y-axis, we can see that Mercury, Venus, Earth, and Mars (the four **terrestrial** planets) have fairly different masses. We can also observe that the masses of Uranus and Neptune are in fact much more similar to the masses of Jupiter and Saturn than to the masses of the terrestrial planets.\n",
        "\n",
        "\n",
        "This is a great example of why **data visualization** is so important in data science - you want to be sure that you are visualizing (a.k.a. plotting) your data in a way that will best show potential relationships between your variables. \n",
        "\n",
        "\n",
        "Now let's explore some other planetary properties! \n",
        "\n",
        "<img src=\"https://media4.giphy.com/media/Xf1Zj5nYsoTcBE4BIN/giphy.gif?cid=ecf05e47v62w17uchvfmq0spfwx9xaofx8ky70we94tw3nbu&rid=giphy.gif&ct=g\" width=\"600\" height=\"400\">\n",
        "\n",
        "A planet's **orbital period** is the time it takes for the planet to complete one lap around the Sun. Earth's orbital period is one year. \n",
        "\n",
        "Do you think other planets have shorter or longer orbital periods? "
      ]
    },
    {
      "cell_type": "code",
      "execution_count": null,
      "metadata": {
        "id": "GxskiMvxcK-m"
      },
      "outputs": [],
      "source": [
        "#Answer here: \n"
      ]
    },
    {
      "cell_type": "markdown",
      "metadata": {
        "id": "4ptPT3RXcK-m"
      },
      "source": [
        "Let's plot the orbital periods of the different planets to find out:"
      ]
    },
    {
      "cell_type": "code",
      "execution_count": null,
      "metadata": {
        "id": "PdITllEfcK-m"
      },
      "outputs": [],
      "source": [
        "plt.scatter(planets.Planet, planets.Orbital_Period)\n",
        "plt.ylabel('Orbital Period (days)')"
      ]
    },
    {
      "cell_type": "markdown",
      "metadata": {
        "id": "Pio9FmpQcK-m"
      },
      "source": [
        "You'll notice that the orbital periods are reported in units of **days**. Since it is easier for us to think in terms of **years**, we can *divide* `planets.Orbital_period` by 365 in order to plot the orbital period in years. What's cool about Python is that we can do this math *directly* in the plot command! See below:"
      ]
    },
    {
      "cell_type": "code",
      "execution_count": null,
      "metadata": {
        "id": "4JOliZlccK-m"
      },
      "outputs": [],
      "source": [
        "plt.scatter(planets.Planet, planets.Orbital_Period/365)\n",
        "\n",
        "#don't forget to update your y label with the new unit!\n",
        "plt.ylabel('Orbital Period (years)')"
      ]
    },
    {
      "cell_type": "markdown",
      "metadata": {
        "id": "n2v6EI3QcK-n"
      },
      "source": [
        "**Yes**, the planets have different orbital periods! They range from <1 year to 250 years. \n",
        "\n",
        "> P.S. Try adding the `plt.yscale('log')` command above to view the data a bit differently. "
      ]
    },
    {
      "cell_type": "markdown",
      "metadata": {
        "id": "t-cSEMqncK-n"
      },
      "source": [
        "## Now for more complicated plots..."
      ]
    },
    {
      "cell_type": "markdown",
      "metadata": {
        "id": "OdpzBez8cK-n"
      },
      "source": [
        "Next, we can answer the question at the beginning of the notebook, about whether a planet's temperature is related to its distance from the Sun. \n",
        "\n",
        "To do this, we can plot the `Mean_Temperature` column in our dataframe `planets` against the `Distance_from_Sun` column:"
      ]
    },
    {
      "cell_type": "code",
      "execution_count": null,
      "metadata": {
        "id": "nE0KX-wCcK-n"
      },
      "outputs": [],
      "source": [
        "plt.scatter(planets.Distance_from_Sun, planets.Mean_Temperature)"
      ]
    },
    {
      "cell_type": "markdown",
      "metadata": {
        "id": "CJ5ePocycK-o"
      },
      "source": [
        "**Notice** that the x-axis (`Distance_from_Sun`) has extremely large values (the $1e9$ in the lower right corner means that each value on the x-axis is multiplied by $10^{9}$). We know how to address this scenario of a large range of vlues - use a **logarithmic scale**! But this time we will use a logarithmic scale on the x-axis:\n",
        "\n",
        "  `plt.xscale('log')`\n",
        "    \n",
        "Add this to the plot below, and remember to include axis labels!"
      ]
    },
    {
      "cell_type": "code",
      "execution_count": null,
      "metadata": {
        "id": "oQtPzOcRcK-o"
      },
      "outputs": [],
      "source": [
        "plt.scatter(planets.Distance_from_Sun, planets.Mean_Temperature)\n",
        "\n",
        "# change x scale\n",
        "\n",
        "# add x label\n",
        "\n",
        "# add y label\n"
      ]
    },
    {
      "cell_type": "markdown",
      "metadata": {
        "id": "BnCgJmAzcK-o"
      },
      "source": [
        "In the plot(s) above, we aren't plotting the planet labels on the x-axis -- so **how do we know which point corresponds to what planet**? \n",
        "\n",
        "> To answer this, we can assign a color and associated label (the planet's name) to each point, which will be displayed in the plot's **legend** -- displayed using `plt.legend()`.\n",
        ">\n",
        "> However, when using `plt.scatter()`, we can't customize individual points. So we need to use `plt.plot()`.\n",
        "\n",
        "There are a few different ways to do this - we will go through each and you can choose which one works best for you.\n",
        "\n",
        "\n",
        "\n",
        "---\n",
        "\n",
        "\n",
        "### **(1)** The first way to do this involves plotting each individual point, and assigning it a color and a label:\n",
        "\n",
        "To plot individual points, we can use the `.iloc[#]` method for each planet (numbers 0 through 8):\n",
        "\n",
        "    plt.plot(planets.Distance_from_Sun.iloc[0],planets.Mean_Temperature.iloc[0])\n",
        "    \n",
        "To assign a color to an individual point we add `c='colorname'` to the plotting command:\n",
        "\n",
        "    plt.plot(planets.Distance_from_Sun.iloc[0],planets.Mean_Temperature.iloc[0], c='red')\n",
        "    \n",
        "To add a label to an individual point, we add `label='name'` to the plotting command:\n",
        "\n",
        "    plt.plot(planets.Distance_from_Sun.iloc[0],planets.Mean_Temperature.iloc[0], c='red', label='Mercury')\n",
        "    \n",
        "Alternatively, we can pull a name from our pandas dataframe to use as a label:\n",
        "\n",
        "    plt.plot(planets.Distance_from_Sun.iloc[0],planets.Mean_Temperature.iloc[0], c='red', label=planets.Planet.iloc[0])\n",
        "    \n",
        "You can explore more color names [here](https://matplotlib.org/3.1.0/_images/sphx_glr_named_colors_003.png), or use the chart below:\n",
        "\n",
        "<img src=\"https://matplotlib.org/3.1.0/_images/sphx_glr_named_colors_003.png\" width=\"600\" height=\"500\">\n",
        "\n",
        "We can add other modifiers to the plot command, such as:\n",
        "\n",
        "    marker='o'\n",
        "    linestyle=''  \n",
        "    \n",
        "The `marker` property allows you to choose the shape of your marker (more options [here](https://matplotlib.org/stable/api/markers_api.html)). \n",
        "\n",
        "The `linestyle` property changes the appearance of a line, but **because we are plotting points, not lines, we will use** `linestyle=''` to remove the line that will appear through our markers in the legend. More linestyles are [here](https://matplotlib.org/stable/gallery/lines_bars_and_markers/linestyles.html).\n"
      ]
    },
    {
      "cell_type": "code",
      "execution_count": null,
      "metadata": {
        "id": "MdFqraZVcK-o"
      },
      "outputs": [],
      "source": [
        "# create the plot - assign a marker color (c='colorname'), label (label='name'), and marker shape (marker='o')\n",
        "plt.plot(planets.Distance_from_Sun.iloc[0],planets.Mean_Temperature.iloc[0], c='gray', label=planets.Planet.iloc[0], marker='o',linestyle='')\n",
        "plt.plot(planets.Distance_from_Sun.iloc[1],planets.Mean_Temperature.iloc[1], c='yellow', label=planets.Planet.iloc[1], marker='o',linestyle='')\n",
        "plt.plot(planets.Distance_from_Sun.iloc[2],planets.Mean_Temperature.iloc[2], c='green', label=planets.Planet.iloc[2], marker='o',linestyle='')\n",
        "plt.plot(planets.Distance_from_Sun.iloc[3],planets.Mean_Temperature.iloc[3], c='red', label=planets.Planet.iloc[3], marker='o',linestyle='')\n",
        "plt.plot(planets.Distance_from_Sun.iloc[4],planets.Mean_Temperature.iloc[4], c='orange', label=planets.Planet.iloc[4], marker='o',linestyle='')\n",
        "plt.plot(planets.Distance_from_Sun.iloc[5],planets.Mean_Temperature.iloc[5], c='olive', label=planets.Planet.iloc[5], marker='o',linestyle='')\n",
        "plt.plot(planets.Distance_from_Sun.iloc[6],planets.Mean_Temperature.iloc[6], c='cyan', label=planets.Planet.iloc[6], marker='o',linestyle='')\n",
        "plt.plot(planets.Distance_from_Sun.iloc[7],planets.Mean_Temperature.iloc[7], c='blue', label=planets.Planet.iloc[7], marker='o',linestyle='')\n",
        "plt.plot(planets.Distance_from_Sun.iloc[8],planets.Mean_Temperature.iloc[8], c='magenta', label=planets.Planet.iloc[8], marker='o',linestyle='')\n",
        "\n",
        "# add the legend\n",
        "plt.legend()\n",
        "\n",
        "# remember to label your axes!\n",
        "plt.xscale('log')\n",
        "plt.xlabel('Distance from Sun (km)')\n",
        "plt.ylabel('Mean Temperature ($^{\\circ}$C)')"
      ]
    },
    {
      "cell_type": "markdown",
      "metadata": {
        "id": "vJ0Ye9m0cK-p"
      },
      "source": [
        "This is tedious! It takes 9 lines of code to plot 9 points -- and you need to manually assign a color AND a label to each point. Luckily, there is a better way to do this!\n",
        "\n",
        "\n",
        "---\n",
        "\n",
        "\n",
        "\n",
        "### **(2)** Next, we can try using a colormap:\n",
        "\n",
        "Instead of assigning individual colors to each point, we can use a colormap (`cmap`) to assign a range of colors to our data. You can choose which colormap you want to use - there are lots of options [here](https://matplotlib.org/stable/tutorials/colors/colormaps.html). \n",
        "\n",
        "Make sure you choose a colormap that allows you to clearly distinguish between your data points (to illustrate the importance of colormap choice, test the difference between the colormaps \"Purples\" and \"Spectral\" in the plot below). You can assign a cmap to your plot using this command:\n",
        "\n",
        "    cmap = plt.cm.Spectral\n",
        "    \n",
        "With this command, we have chosen our ***range*** of colors ( the colormap `Spectral`), but we need to specify ***how many*** colors we will be plotting with. \n",
        "\n",
        "To do this, we can split our colormap up into an array of RGB values, one for each planetary object (n=9). Below, we will create a colormap array named 'colors' over the range 0 to 1, with the number of steps equal to the length of our `Planet` column (AKA how many planets we will be plotting):\n",
        "\n",
        "    colors = cmap(np.linspace(0, 1, len(planets.Planet)))\n",
        "\n",
        "This creates an array of 9 RGB values, one for each planetary body! We can add the **colormap** and **color array** to our plot below. "
      ]
    },
    {
      "cell_type": "code",
      "execution_count": null,
      "metadata": {
        "id": "YMS69Q3tcK-p"
      },
      "outputs": [],
      "source": [
        "# choose which colormap you want to use here (replace 'Spectral' with the name of another colormap if you'd like)\n",
        "cmap = plt.cm.Spectral\n",
        "\n",
        "# here we create the colormap array, so that we have 9 distinct colors, one for each planet\n",
        "colors = cmap(np.linspace(0, 1, len(planets.Planet)))\n",
        "\n",
        "plt.plot(planets.Distance_from_Sun.iloc[0],planets.Mean_Temperature.iloc[0], c=colors[0], label=planets.Planet.iloc[0], marker='o',linestyle='')\n",
        "plt.plot(planets.Distance_from_Sun.iloc[1],planets.Mean_Temperature.iloc[1], c=colors[1], label=planets.Planet.iloc[1], marker='o',linestyle='')\n",
        "plt.plot(planets.Distance_from_Sun.iloc[2],planets.Mean_Temperature.iloc[2], c=colors[2], label=planets.Planet.iloc[2], marker='o',linestyle='')\n",
        "plt.plot(planets.Distance_from_Sun.iloc[3],planets.Mean_Temperature.iloc[3], c=colors[3], label=planets.Planet.iloc[3], marker='o',linestyle='')\n",
        "plt.plot(planets.Distance_from_Sun.iloc[4],planets.Mean_Temperature.iloc[4], c=colors[4], label=planets.Planet.iloc[4], marker='o',linestyle='')\n",
        "plt.plot(planets.Distance_from_Sun.iloc[5],planets.Mean_Temperature.iloc[5], c=colors[5], label=planets.Planet.iloc[5], marker='o',linestyle='')\n",
        "plt.plot(planets.Distance_from_Sun.iloc[6],planets.Mean_Temperature.iloc[6], c=colors[6], label=planets.Planet.iloc[6], marker='o',linestyle='')\n",
        "plt.plot(planets.Distance_from_Sun.iloc[7],planets.Mean_Temperature.iloc[7], c=colors[7], label=planets.Planet.iloc[7], marker='o',linestyle='')\n",
        "plt.plot(planets.Distance_from_Sun.iloc[8],planets.Mean_Temperature.iloc[8], c=colors[8], label=planets.Planet.iloc[8], marker='o',linestyle='')\n",
        "\n",
        "plt.legend()\n",
        "plt.xscale('log')\n",
        "plt.xlabel('Distance from Sun (km)')\n",
        "plt.ylabel('Mean Temperature ($^{\\circ}$C)')"
      ]
    },
    {
      "cell_type": "markdown",
      "source": [
        "Though we don't have to manually assign a color to each plot, we still need to use 9 lines of code to get all 9 points :("
      ],
      "metadata": {
        "id": "1I0GGw248Qo2"
      }
    },
    {
      "cell_type": "markdown",
      "metadata": {
        "id": "3zjgSlS4cK-p"
      },
      "source": [
        "\n",
        "\n",
        "---\n",
        "\n",
        "\n",
        "### Now try using a **For Loop**:\n",
        "\n",
        "But how can we further cut down the code needed for this plot? By using a **`for` loop**! \n",
        "\n",
        "This will allow us to reduce the **9** lines of code we use above to **1**! \n",
        "\n",
        "The number of times we want this for loop to run is **9**. We can tell the for loop to run 9 times in different ways: \n",
        "\n",
        "One way to do it is to create an array of nine values over the range (0,9), such as `np.linspace(0,9,9)`:\n",
        "    \n",
        "    for i in range(len(np.linspace(0,9,9))):\n",
        "    \n",
        "Or using a pre-existing array of the same *length*, such as `planets.Planet`:\n",
        "\n",
        "    for i in range(len(planets.Planet)):\n",
        "    \n",
        "We use `len()` to determine the number of iterations of the for loop (so `len(planets.Planet) = 9`), BUT the input in the for loop needs to be a **range** - so we use range() to get the range of values (0,8) that the for loop will iterate over. \n",
        "\n",
        "As for the actual command that we put in the for loop, it's relatively straightforward:\n",
        "\n",
        "    plt.plot(planets.Distance_from_Sun.iloc[i], planets.Mean_Temperature.iloc[i], c=colors[i], label=planets.Planet.iloc[i], marker='o', linestyle='')\n",
        "     \n",
        "We can also use other modifiers, such as:\n",
        " \n",
        "    markeredgecolor='black'\n",
        "    markersize=10\n",
        "\n",
        "The `markeredgecolor` property adds an outline to your marker using the color you choose (i.e. `markeredgecolor='black'`).\n",
        "\n",
        "The `markersize` property changes the size of your marker (pretty self-explanatory, you can use any number you want). However, a fancy trick you can do is to change the markersize of your point according to **another** property of the planets you are plotting. For example, adding:\n",
        "\n",
        "    markersize=planets.Gravity[i]\n",
        "    \n",
        "to our plot command will adjust the size of the points based on the `Gravity` value for each planet! \n",
        "\n",
        "P.S. if you use a property such as `Diameter` to adjust the size of your points, be sure to divide by a large number (i.e. `markersize=planets.Diameter[i]/5000`) or else the largest planets will take up the entire plot!\n",
        "\n",
        "Let's put all of these commands together below to create our final plot:"
      ]
    },
    {
      "cell_type": "code",
      "execution_count": null,
      "metadata": {
        "id": "RVvXZGBrcK-p"
      },
      "outputs": [],
      "source": [
        "# choosing our colormap and creating the array of colors\n",
        "cmap = plt.cm.Spectral\n",
        "colors = cmap(np.linspace(0, 1, len(planets.Planet)))\n",
        "\n",
        "for i in range(len(planets.Planet)):\n",
        "    plt.plot(planets.Distance_from_Sun.iloc[i],planets.Mean_Temperature.iloc[i], c=colors[i], label=planets.Planet.iloc[i], marker='o', linestyle='', markeredgecolor='black', markersize=planets.Gravity[i])\n",
        "\n",
        "plt.legend()\n",
        "plt.xscale('log')\n",
        "plt.xlabel('Distance from Sun (km)')\n",
        "plt.ylabel('Mean Temperature ($^{\\circ}$C)')\n",
        "\n",
        "plt.title('Temperature vs. Distance from Sun')"
      ]
    },
    {
      "cell_type": "markdown",
      "source": [
        "So, looking at your plot above, **is a planet's temperature related to its distance from the Sun**?\n",
        "\n"
      ],
      "metadata": {
        "id": "gleiKgEssYlr"
      }
    },
    {
      "cell_type": "code",
      "source": [
        "# Your answer here\n"
      ],
      "metadata": {
        "id": "EENe90TquLoj"
      },
      "execution_count": null,
      "outputs": []
    },
    {
      "cell_type": "markdown",
      "source": [
        "Are there any **outliers** in the data that you see?"
      ],
      "metadata": {
        "id": "Ey4-x5_AuN58"
      }
    },
    {
      "cell_type": "code",
      "source": [
        "# Your answer here\n"
      ],
      "metadata": {
        "id": "88qY3m0puVt5"
      },
      "execution_count": null,
      "outputs": []
    },
    {
      "cell_type": "markdown",
      "metadata": {
        "id": "fJW3yPE8cK-q"
      },
      "source": [
        "\n",
        "\n",
        "---\n",
        "\n",
        "# Exercise\n",
        "\n",
        "Now it's your turn! \n",
        "\n",
        "Use `plt.scatter()` plot the number of moons for each planet. Use `planet.Diameter` to adjust the size of the markers.\n",
        "\n",
        "> P.S. Divide `planet.Diameter` by at least 40 to make the markers a reasonable size :)\n",
        "> \n",
        "> P.P.S. When using `plt.scatter()`, to adjust the marker size, you need to use `s=` instead of `markersize=` \n",
        ">\n",
        "> P. P. P. S. If you want to change the fontsize of your title and x or y labels, add `fontsize='#'` (try 14 first) to your `plt.xlabel()`, `plt.ylabel()`, or `plt.title()` commands. "
      ]
    },
    {
      "cell_type": "code",
      "execution_count": null,
      "metadata": {
        "id": "Gctm3WCKcK-q"
      },
      "outputs": [],
      "source": [
        "# plot your data\n",
        "\n",
        "\n",
        "# add y label\n",
        "\n",
        "\n",
        "# add a title to your plot\n"
      ]
    },
    {
      "cell_type": "markdown",
      "metadata": {
        "id": "xtABKrF1cK-q"
      },
      "source": [
        "Look at the plot you made. What observations can you make? Is there a relationship between the variables you visualized?"
      ]
    },
    {
      "cell_type": "code",
      "execution_count": null,
      "metadata": {
        "id": "-_1pdKMhcK-q"
      },
      "outputs": [],
      "source": [
        "# Your answer here:\n"
      ]
    },
    {
      "cell_type": "markdown",
      "source": [
        "Next, create a plot that combines all of the elements we have learned about:\n",
        "\n",
        "\n",
        "1.   Choose a colormap (`cmap`) and create an array of colors, one for each planet.\n",
        "2.   Use a **for loop** to plot a planet's `Mass` against its `Diameter`, using `plt.plot()`\n",
        "3. Decide if you need to change the scale of the axes (using `plt.xscale()` or `plt.yscale()`)\n",
        "4. Add a title and a legend to your plot\n",
        "5. Don't forget axis labels!\n",
        "6. Optional: adjust the size of the markers using `markersize`, and adjust the fontsize of your labels. \n",
        "\n"
      ],
      "metadata": {
        "id": "_5U_BrVWvo_J"
      }
    },
    {
      "cell_type": "code",
      "execution_count": null,
      "metadata": {
        "id": "C3oblvNVcK-t"
      },
      "outputs": [],
      "source": [
        "# choose a colormap\n",
        "\n",
        "\n",
        "# create an array of colors, one for each planet\n",
        "\n",
        "# create a for loop that plots Diameter against Mass\n",
        "\n",
        "# do you need to change the axis scale(s)?\n",
        "\n",
        "\n",
        "# add a legend and title to your plot\n",
        "\n",
        "\n",
        "# don't forget axis labels!\n"
      ]
    },
    {
      "cell_type": "markdown",
      "source": [
        "Create a similar plot, but using `Orbital_Period` on the x-axis instead of `Diameter`\n",
        "\n",
        "1.   Choose a colormap (`cmap`) and create an array of colors, one for each planet.\n",
        "2.   Use a **for loop** to plot a planet's `Mass` against its `Orbital_Period`, using `plt.plot()`\n",
        "    > Divide `Orbital_Period` by 365 to convert the units to years!\n",
        "3. Decide if you need to change the scale of the axes (using `plt.xscale()` or `plt.yscale()`)\n",
        "4. Add a title and a legend to your plot\n",
        "5. Don't forget axis labels!\n",
        "6. Optional: adjust the size of the markers using `markersize`, and adjust the fontsize of your labels."
      ],
      "metadata": {
        "id": "vP00gg5b2JAT"
      }
    },
    {
      "cell_type": "code",
      "execution_count": null,
      "metadata": {
        "id": "8jJg7GvxcK-t"
      },
      "outputs": [],
      "source": [
        "# choose a colormap\n",
        "\n",
        "\n",
        "# create an array of colors, one for each planet\n",
        "\n",
        "# create a for loop that plots Orbital Period against Mass\n",
        "\n",
        "# do you need to change the axis scale(s)?\n",
        "\n",
        "\n",
        "# add a legend and title to your plot\n",
        "\n",
        "\n",
        "# don't forget axis labels!\n"
      ]
    },
    {
      "cell_type": "markdown",
      "source": [
        "From the above plot, do you think a planet's orbital period and its mass are related?"
      ],
      "metadata": {
        "id": "Zn6FmAPv3Lgi"
      }
    },
    {
      "cell_type": "code",
      "source": [
        "# Your answer here:\n"
      ],
      "metadata": {
        "id": "IqRlswK43XnD"
      },
      "execution_count": null,
      "outputs": []
    },
    {
      "cell_type": "markdown",
      "metadata": {
        "id": "obebxYPrcK-t"
      },
      "source": [
        "Do planets have longer orbital periods because they are heavier? The plot above might suggest that. \n",
        "\n",
        "Copy your code from the plot above, and replace `Mass` on the y-axis with `Distance_from_Sun` in your plot. \n",
        "\n",
        "Make sure both your x-axis and y-axis are using a **log scale**:"
      ]
    },
    {
      "cell_type": "code",
      "execution_count": null,
      "metadata": {
        "id": "YHBe38MjcK-t"
      },
      "outputs": [],
      "source": [
        "# your code here"
      ]
    },
    {
      "cell_type": "markdown",
      "metadata": {
        "id": "n5sbVy4IcK-t"
      },
      "source": [
        "We can see in the plot above that `Orbital_Period` also correlates to `Distance_from_Sun` -- as `Orbital_Period` increases, so does `Distance_from_Sun`. With both axes using a **log scale**, the data plots in almost a straight line.\n",
        "\n",
        "Anytime your data looks like it is in a straight line, that usually means there is a significant relationship between the two variables you are plotting. In this case, the orbital period of a planet is directly related to its distance from the Sun. This makes sense -- planets that are further away from the Sun have to cover a longer distance to make one lap around the Sun - which means their orbital periods (the time it takes to make one lap) are longer. \n",
        "\n",
        "But always remember: **correlation != causation**. "
      ]
    },
    {
      "cell_type": "markdown",
      "source": [
        "\n",
        "## Colorbars!\n",
        "\n",
        "Just for fun - let's learn how to use a **colorbar**! Much like how we can use the `markersize` property to adjust the size of our marker based on a certain property, we can also change the color of our marker based on an additional planet property. \n",
        "\n",
        "Below, we will change the color of each marker based on the **density** of each planet. to do this, we simply add `c=planets.Density` to our plotting command, along with defining a colormap (`cmap=cmap`):"
      ],
      "metadata": {
        "id": "As6XbTQwAcGU"
      }
    },
    {
      "cell_type": "code",
      "execution_count": null,
      "metadata": {
        "id": "uswvzSqXcK-t",
        "outputId": "7ec001a5-c486-480b-ae3b-8b810cb362b2",
        "colab": {
          "base_uri": "https://localhost:8080/",
          "height": 337
        }
      },
      "outputs": [
        {
          "output_type": "execute_result",
          "data": {
            "text/plain": [
              "Text(0, 0.5, 'Mass (kg)')"
            ]
          },
          "metadata": {},
          "execution_count": 37
        },
        {
          "output_type": "display_data",
          "data": {
            "image/png": "[encoded data removed]",
            "text/plain": [
              "<Figure size 720x360 with 2 Axes>"
            ]
          },
          "metadata": {
            "needs_background": "light"
          }
        }
      ],
      "source": [
        "# define the colormap   \n",
        "cmap = plt.cm.Spectral\n",
        "\n",
        "#create our scatter plot \n",
        "scatter = plt.scatter(planets.Planet, planets.Mass, c=planets.Density, s=100, cmap=cmap) \n",
        "\n",
        "# create the colorbar\n",
        "cb = plt.colorbar(scatter, spacing='proportional') \n",
        "\n",
        "# label the colorbar and set the colorbar label position\n",
        "cb.set_label('Density (kg/m$^{3}$)')\n",
        "cb.ax.yaxis.set_label_position('left')\n",
        "\n",
        "# change y scale\n",
        "plt.yscale('log')\n",
        "\n",
        "# add axis label!\n",
        "plt.ylabel('Mass (kg)')"
      ]
    },
    {
      "cell_type": "markdown",
      "source": [
        "We can see that the four terrestrial planets (Mercury, Venus, Earth, and Mars) have **higher** densities than the gas (Jupiter, Saturn) and ice (Uranus, Neptune) giant planets.\n",
        "\n",
        "Now, you try! Create a plot similar to the one above, but using a different planet property to color the data points:"
      ],
      "metadata": {
        "id": "F0BZgcK_Docy"
      }
    },
    {
      "cell_type": "code",
      "source": [
        "# your plot here:\n",
        "\n"
      ],
      "metadata": {
        "id": "uCH6lTOBDvvn"
      },
      "execution_count": null,
      "outputs": []
    },
    {
      "cell_type": "markdown",
      "source": [
        "We can also use a **discrete** colorbar instead of a legend on certain types of plots. This is a bit more complicated, but see if you can follow along:"
      ],
      "metadata": {
        "id": "P7QqJitvEIsa"
      }
    },
    {
      "cell_type": "code",
      "execution_count": null,
      "metadata": {
        "id": "CvpD9BH0cK-s",
        "outputId": "3f29450c-6aef-46f3-f870-5a987ba4999c",
        "colab": {
          "base_uri": "https://localhost:8080/",
          "height": 338
        }
      },
      "outputs": [
        {
          "output_type": "display_data",
          "data": {
            "image/png": "[encoded data removed]",
            "text/plain": [
              "<Figure size 720x360 with 2 Axes>"
            ]
          },
          "metadata": {
            "needs_background": "light"
          }
        }
      ],
      "source": [
        "N = 10 # Number of planets we are plotting PLUS ONE\n",
        "\n",
        "# define the colormap\n",
        "cmap = plt.cm.Spectral\n",
        "\n",
        "# extract all colors from the color map\n",
        "cmaplist = [cmap(i) for i in range(cmap.N)]\n",
        "\n",
        "# create the new discrete color map\n",
        "cmap = cmap.from_list('Custom cmap', cmaplist, cmap.N)\n",
        "\n",
        "# define the bins and normalize\n",
        "bounds = np.linspace(0,N,N)\n",
        "norm = mpl.colors.BoundaryNorm(bounds, cmap.N)\n",
        "\n",
        "#assign numbers to planets (the colorbar needs integer inputs)\n",
        "planet_num = np.arange(1,10,1)\n",
        "\n",
        "# make the scatter plot\n",
        "scat = plt.scatter(planets.Diameter,planets.Mass,c=planet_num,s=100,cmap=cmap, norm=norm)\n",
        "\n",
        "# create the colorbar\n",
        "cb = plt.colorbar(scat, spacing='proportional',ticks=bounds)\n",
        "cb.set_label('Planet')\n",
        "cb.ax.yaxis.set_label_position('left')\n",
        "\n",
        "# set the tick labels and their position on the colorbar\n",
        "cb.set_ticklabels(planets.Planet, update_ticks=True)\n",
        "cb.set_ticks([0.6,1.7,2.8,3.9,5.0,6.1,7.2,8.3,9.4,10.5]) \n",
        "\n",
        "plt.xlabel('Diameter (km)')\n",
        "plt.ylabel('Mass (kg')\n",
        "plt.xscale('log')\n",
        "plt.yscale('log')"
      ]
    },
    {
      "cell_type": "markdown",
      "source": [
        "Here the individual planets have their own colors, and we are using a colorbar to the side of the plot instead of a typical legend!"
      ],
      "metadata": {
        "id": "aWulBsb0PpSy"
      }
    },
    {
      "cell_type": "markdown",
      "source": [
        "# Exercise Time!!\n",
        "\n",
        "Plot `planets.Mass` vs. `planets.Density`. Adjust the `markersize` using another property. \n",
        "\n",
        "Does it look like there is a relationship between the two variables? Customize your plot to show the data in the best way. "
      ],
      "metadata": {
        "id": "qRkHMgX9P5Xi"
      }
    },
    {
      "cell_type": "code",
      "execution_count": null,
      "metadata": {
        "id": "EXRsZdiWcK-r"
      },
      "outputs": [],
      "source": [
        "# your plotting code here\n"
      ]
    },
    {
      "cell_type": "markdown",
      "source": [
        "Now plot `planets.Orbital_Velocity` vs. `planets.Planet`. Adjust the `markersize` using another property. \n",
        "\n",
        "Do you notice a relationship in the data? Customize your plot to show the data in the best way. "
      ],
      "metadata": {
        "id": "DsEIelKdR_VL"
      }
    },
    {
      "cell_type": "code",
      "source": [
        "# your plotting code here"
      ],
      "metadata": {
        "id": "ZM3zhOGtRmjy"
      },
      "execution_count": null,
      "outputs": []
    },
    {
      "cell_type": "markdown",
      "source": [
        "Now for a challenge:\n",
        "\n",
        "Now plot `planets.Distance_from_Sun` vs. `planets.Planet`. Adjust the `markersize` using another property. \n",
        "\n",
        "What *type* of relationship does the data show?"
      ],
      "metadata": {
        "id": "lUiakKQbgHL0"
      }
    },
    {
      "cell_type": "code",
      "execution_count": null,
      "metadata": {
        "id": "2r06u6RwcK-s"
      },
      "outputs": [],
      "source": [
        "# your plotting code here"
      ]
    },
    {
      "cell_type": "markdown",
      "source": [
        "> Hint: Plot x vs. x$^{2}$ below. What kind of mathematical relationship is this?"
      ],
      "metadata": {
        "id": "7CkM0krWgbc6"
      }
    },
    {
      "cell_type": "code",
      "source": [
        "# first define some range of x numbers using np.arange()\n",
        "\n",
        "\n",
        "# then plot x vs. x^2\n"
      ],
      "metadata": {
        "id": "-awFwO1OaHNN"
      },
      "execution_count": null,
      "outputs": []
    },
    {
      "cell_type": "code",
      "source": [
        "# Your answer here"
      ],
      "metadata": {
        "id": "_u55TWg8guWW"
      },
      "execution_count": null,
      "outputs": []
    },
    {
      "cell_type": "markdown",
      "metadata": {
        "id": "DZT1dQ4HcK-0"
      },
      "source": [
        "# The End!"
      ]
    }
  ],
  "metadata": {
    "kernelspec": {
      "display_name": "Python 3 (ipykernel)",
      "language": "python",
      "name": "python3"
    },
    "language_info": {
      "codemirror_mode": {
        "name": "ipython",
        "version": 3
      },
      "file_extension": ".py",
      "mimetype": "text/x-python",
      "name": "python",
      "nbconvert_exporter": "python",
      "pygments_lexer": "ipython3",
      "version": "3.8.12"
    },
    "colab": {
      "name": "Week4_DataViz_studentcopy.ipynb",
      "provenance": [],
      "collapsed_sections": [],
      "include_colab_link": true
    }
  },
  "nbformat": 4,
  "nbformat_minor": 0
}